{
 "cells": [
  {
   "cell_type": "code",
   "execution_count": 6,
   "id": "d3c2f89e",
   "metadata": {},
   "outputs": [],
   "source": [
    "from keras .preprocessing.image import ImageDataGenerator"
   ]
  },
  {
   "cell_type": "code",
   "execution_count": 8,
   "id": "46be4f03",
   "metadata": {},
   "outputs": [],
   "source": [
    "from tensorflow.keras.utils import array_to_img , img_to_array ,load_img"
   ]
  },
  {
   "cell_type": "code",
   "execution_count": 9,
   "id": "f624ca2a",
   "metadata": {},
   "outputs": [],
   "source": [
    "datagen = ImageDataGenerator(\n",
    "        rotation_range=40,\n",
    "        width_shift_range=0.2,\n",
    "        height_shift_range=0.2,\n",
    "        shear_range=0.2,\n",
    "        zoom_range=0.2,\n",
    "        horizontal_flip=True,\n",
    "        fill_mode='nearest')"
   ]
  },
  {
   "cell_type": "code",
   "execution_count": 12,
   "id": "5f28a92a",
   "metadata": {},
   "outputs": [],
   "source": [
    "img = load_img('cats-and-dogs.jpg')"
   ]
  },
  {
   "cell_type": "code",
   "execution_count": 13,
   "id": "c785ad94",
   "metadata": {},
   "outputs": [],
   "source": [
    "X = img_to_array(img) # this is an numpy array with shape 3,150,150"
   ]
  },
  {
   "cell_type": "code",
   "execution_count": 14,
   "id": "93642a61",
   "metadata": {},
   "outputs": [],
   "source": [
    "# 1,3,150,150 in which 3 represents the rgb character in which tells us about three channel array\n",
    "X = X.reshape((1,) + X.shape)"
   ]
  },
  {
   "cell_type": "code",
   "execution_count": 17,
   "id": "bce5e5bb",
   "metadata": {},
   "outputs": [],
   "source": [
    "# In this .flow() command below generates batches of randomly transformed images\n",
    "# and saves the result in the 'preview/' directory\n",
    "i=0\n",
    "for batch  in datagen.flow(X,batch_size=1,save_to_dir='preview',save_prefix='cat',save_format='jpeg'):\n",
    "    i += 1\n",
    "    if i>20:\n",
    "        break # otherwise that will generate loop indefinitely"
   ]
  },
  {
   "cell_type": "code",
   "execution_count": null,
   "id": "c9142cbc",
   "metadata": {},
   "outputs": [],
   "source": []
  }
 ],
 "metadata": {
  "kernelspec": {
   "display_name": "Python 3 (ipykernel)",
   "language": "python",
   "name": "python3"
  },
  "language_info": {
   "codemirror_mode": {
    "name": "ipython",
    "version": 3
   },
   "file_extension": ".py",
   "mimetype": "text/x-python",
   "name": "python",
   "nbconvert_exporter": "python",
   "pygments_lexer": "ipython3",
   "version": "3.9.13"
  }
 },
 "nbformat": 4,
 "nbformat_minor": 5
}
